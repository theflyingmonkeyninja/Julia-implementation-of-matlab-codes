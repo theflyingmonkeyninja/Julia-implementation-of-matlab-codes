{
 "cells": [
  {
   "cell_type": "code",
   "execution_count": 13,
   "metadata": {},
   "outputs": [
    {
     "data": {
      "text/plain": [
       "mtimesx (generic function with 1 method)"
      ]
     },
     "execution_count": 13,
     "metadata": {},
     "output_type": "execute_result"
    }
   ],
   "source": [
    "function mtimesx(A,B,moperandi)\n",
    "\n",
    "    ## function to compute the matrix multiplication for multidimensional matrices\n",
    "    ## A and B are two matrices have same dimesnion\n",
    "    ## moperandi is the variable that defines the how the operation will be performed\n",
    "    ## moperandi is a string and could be either \"\"vectorised\" indicating use of simd\n",
    "    ## or \"threaded\" indicating use of multithread approach the default way the function\n",
    "    ## runs as single threaded operation\n",
    "\n",
    "\n",
    "    fmatshap = collect(size(A));\n",
    "    fmatshap = fmatshap[3:end];\n",
    "    fmatshap = reshape(fmatshap,1,length(fmatshap));\n",
    "\n",
    "\n",
    "\n",
    "    if ndims(A)==ndims(B)\n",
    "        k=1;\n",
    "        for i=3:ndims(A)\n",
    "            if size(A,i) != size(B,i)\n",
    "                error(\"Matrices/vectors are incorrectly defined\")\n",
    "            end\n",
    "\n",
    "        end\n",
    "    else\n",
    "        error(\"Matrices/vectors are incorrectly defined\")\n",
    "    end\n",
    "        ## getting the size of the matrices\n",
    "    sa1 = size(A,1);\n",
    "    sa2 = size(A,2);\n",
    "    sb1 = size(B,1);\n",
    "    sb2 = size(B,2);\n",
    "    \n",
    "    ## converting to 3d matrices\n",
    "    A = reshape(A,sa1,sa2,prod(fmatshap));\n",
    "    B = reshape(B,sb1,sb2,prod(fmatshap));\n",
    "\n",
    "    ## getting the size of the matrices\n",
    "    (sa1,sa2,sa3) = size(A);\n",
    "    (sb1,sb2,sb3) = size(B);\n",
    "\n",
    "    ## computing of the matrix\n",
    "    if sa3 == sb3 && sb1 == sa2\n",
    "\n",
    "        if moperandi == \"vectorised\" ## using simd\n",
    "             C = zeros(sa1,sb2,sa3);\n",
    "\n",
    "            @inbounds @simd for i = 1:sb3\n",
    "                C[:,:,i] = A[:,:,i]*B[:,:,i];\n",
    "            end\n",
    "\n",
    "        elseif moperandi == \"threaded\" ## using multithreading\n",
    "            C = zeros(sa1,sb2,sa3);\n",
    "\n",
    "            Threads.@threads for i = 1:sb3\n",
    "                C[:,:,i] = A[:,:,i]*B[:,:,i];\n",
    "            end\n",
    "\n",
    "        else\n",
    "            C = zeros(sa1,sb2,sa3);\n",
    "\n",
    "            for i = 1:sb3 ## single threaded\n",
    "                C[:,:,i] = A[:,:,i]*B[:,:,i];\n",
    "            end\n",
    "        end\n",
    "    else\n",
    "\n",
    "        error(\"Matrices/vectors are incorrectly defined\")\n",
    "\n",
    "    end\n",
    "\n",
    "    ## reconverting the matrix to the correct shape\n",
    "    spvect = zeros(Int64,1,2+length(fmatshap));\n",
    "    spvect[1] = sa1; spvect[2] = sb2;\n",
    "\n",
    "    for i = 1:length(fmatshap)\n",
    "        spvect[2+i] = fmatshap[i];\n",
    "    end\n",
    "\n",
    "\n",
    "    C = reshape(C,Tuple(spvect));# reshape takes tuples as second argument\n",
    "    return C;\n",
    "\n",
    "\n",
    "end\n"
   ]
  },
  {
   "cell_type": "code",
   "execution_count": 14,
   "metadata": {},
   "outputs": [
    {
     "name": "stdout",
     "output_type": "stream",
     "text": [
      "  1.518 ms (15482 allocations: 1.02 MiB)\n",
      "  1.466 ms (14972 allocations: 1015.97 KiB)\n",
      "  1.574 ms (14486 allocations: 1008.38 KiB)\n"
     ]
    }
   ],
   "source": [
    "using Pkg;\n",
    "using BenchmarkTools;\n",
    "\n",
    "\n",
    "A = rand(6,3,1000); B = rand(3,3,1000);\n",
    "\n",
    "\n",
    "\n",
    "## Benchmarking\n",
    "\n",
    "@btime  mtimesx(A,B,\"\");\n",
    "\n",
    "@btime  mtimesx(A,B,\"threaded\");\n",
    "\n",
    "@btime  mtimesx(A,B,\"vectorised\");\n"
   ]
  }
 ],
 "metadata": {
  "@webio": {
   "lastCommId": "5b62ca4119c44aad88f1c5ff5b973087",
   "lastKernelId": "e6729655-7932-4671-a353-d4c64d3e7a6d"
  },
  "kernelspec": {
   "display_name": "Julia 1.0.2",
   "language": "julia",
   "name": "julia-1.0"
  },
  "language_info": {
   "file_extension": ".jl",
   "mimetype": "application/julia",
   "name": "julia",
   "version": "1.0.2"
  }
 },
 "nbformat": 4,
 "nbformat_minor": 2
}
